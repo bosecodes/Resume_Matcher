{
 "cells": [
  {
   "cell_type": "markdown",
   "metadata": {},
   "source": [
    "## Resume Scanner and Feature Extraction"
   ]
  },
  {
   "cell_type": "markdown",
   "metadata": {},
   "source": [
    "### - We can have a user upload his resume to the program\n",
    "### - We will be able to extract the necessary keywords from the given resume, including key skills\n",
    "### - We then will be able to match the same keywords and check them against a particular Job Description provided by a Company"
   ]
  },
  {
   "cell_type": "code",
   "execution_count": 3,
   "metadata": {},
   "outputs": [
    {
     "name": "stdout",
     "output_type": "stream",
     "text": [
      "Collecting docx2txt\n",
      "  Downloading https://files.pythonhosted.org/packages/7d/7d/60ee3f2b16d9bfdfa72e8599470a2c1a5b759cb113c6fe1006be28359327/docx2txt-0.8.tar.gz\n",
      "Building wheels for collected packages: docx2txt\n",
      "  Running setup.py bdist_wheel for docx2txt: started\n",
      "  Running setup.py bdist_wheel for docx2txt: finished with status 'done'\n",
      "  Stored in directory: C:\\Users\\bosecodes\\AppData\\Local\\pip\\Cache\\wheels\\b2\\1f\\26\\a051209bbb77fc6bcfae2bb7e01fa0ff941b82292ab084d596\n",
      "Successfully built docx2txt\n",
      "Installing collected packages: docx2txt\n",
      "Successfully installed docx2txt-0.8\n"
     ]
    },
    {
     "name": "stderr",
     "output_type": "stream",
     "text": [
      "You are using pip version 18.1, however version 20.3.3 is available.\n",
      "You should consider upgrading via the 'python -m pip install --upgrade pip' command.\n"
     ]
    }
   ],
   "source": [
    "!pip install docx2txt"
   ]
  },
  {
   "cell_type": "code",
   "execution_count": 6,
   "metadata": {},
   "outputs": [],
   "source": [
    "# Import the libraries\n",
    "import docx2txt"
   ]
  },
  {
   "cell_type": "code",
   "execution_count": 7,
   "metadata": {},
   "outputs": [],
   "source": [
    "resume = docx2txt.process('resume1.docx')"
   ]
  },
  {
   "cell_type": "code",
   "execution_count": 8,
   "metadata": {},
   "outputs": [
    {
     "name": "stdout",
     "output_type": "stream",
     "text": [
      "CAREER SUMMARY\n",
      "\n",
      "Around 3 Years of experience in Analysis, Design, Development, Management and Validation of various stand-alone and client-server applications.\n",
      "\n",
      "2+ years of experience in implementing Object-Oriented Python, Hash Tables (Dictionaries) and Multi threading.\n",
      "\n",
      "Experience in installing software using pip command for python libraries and extensive usage of the PEP8 coding convention.\n",
      "\n",
      "Good understanding on Django ORM and SQLAlchemy.\n",
      "\n",
      "Experienced in interfacing with third party API’s using REST and SOAP\n",
      "\n",
      "Worked with varieties of Relational Databases (RDBMS) like SQLite, MySQL and PostgreSQL.\n",
      "\n",
      "Experienced in writing SubQueries, Triggers, Cursors, Stored Procedures and Functions.\n",
      "\n",
      "Proficient knowledge of Web services like Google Cloud and Amazon AWS Services.\n",
      "\n",
      "Good Knowledge on Linux and Shell Scripting.\n",
      "\n",
      "Experienced in developing web-based applications using Python, PHP, XML, JSON and MVC3\n",
      "\n",
      "Well versed in design and development of presentation layer for web applications using technologies like HTML,CSS, JavaScript, JQuery, AJAX and Bootstrap.\n",
      "\n",
      "EDUCATION\n",
      "\n",
      "Course (Stream)/ Examination\n",
      "\n",
      "Institution/University/School\n",
      "\n",
      "Year of Passing\n",
      "\n",
      "Performance\n",
      "\n",
      "B.E\n",
      "\n",
      "Tagore College of Engineering and Technology – Chennai\n",
      "\n",
      "2015\n",
      "\n",
      "90%\n",
      "\n",
      "HSC\n",
      "\n",
      "Scread Higher Secondary School\n",
      "\n",
      "2009\n",
      "\n",
      "84%\n",
      "\n",
      "SSLC\n",
      "\n",
      "ST.Marry Higher Secondary School\n",
      "\n",
      "2007\n",
      "\n",
      "80%\n",
      "\n",
      "SKILLS\n",
      "\n",
      "AJAX (1 year)\n",
      "\n",
      "CSS (1 year)\n",
      "\n",
      "HTML (1 year)\n",
      "\n",
      "JAVASCRIPT (1 year)\n",
      "\n",
      "MYSQL (1 year)\n",
      "\n",
      "WORK EXPERIENCE\n",
      "\n",
      "1.) Python Developer\n",
      "\n",
      "Tata Consultancy Services – October 2015 to December 2016\n",
      "\n",
      "Responsibilities: \n",
      "\n",
      "Involved in building database model, APIs and views utilizing Python, in order to build an interactive web based solution.\n",
      "\n",
      "Used data types like dictionaries, tuples and object -concepts based inheritance features for making complex algorithms of networks.\n",
      "\n",
      "Designed and developed the UI of the website using HTML, XHTML, AJAX, CSS and JavaScript.\n",
      "\n",
      "Expertise in client scripting languages like JavaScript, JQuery, JSON, DOJO, bootstrap, Angular.js.\n",
      "\n",
      "Designed and managed API system deployment using fast http server and Amazon AWS architecture\n",
      "\n",
      "Worked on Python Open stack API’s.\n",
      "\n",
      "Carried out various mathematical operations for calculation purpose using python libraries.\n",
      "\n",
      "Managed large datasets using Panda data frames and MySQL.\n",
      "\n",
      "Worked with JSON based REST Web services.\n",
      "\n",
      "Performed testing using Django’s Test Module.\n",
      "\n",
      "Creating unit test/regression test framework for working/new code.\n",
      "\n",
      "Using Subversion version control tool to coordinate team-development.\n",
      "\n",
      "Environment: Python, XML, Java, MySQL, Apache, CSS, HTML, JavaScript, Shell Scripts, Linux and Windows.\n",
      "\n",
      "2.) Python Developer\n",
      "\n",
      "Techwave Consulting Inc  – January 2015 to October 2015\n",
      "\n",
      "Responsibilities:\n",
      "\n",
      "Developed Views and Templates with Django view, controller and template language to create a user-friendly website interface.\n",
      "\n",
      "Configured the Django admin site, dashboard and created a custom Django dashboard for end users with custom look and feel.\n",
      "\n",
      "Used Python for XML, JSON processing, data exchange and business logic implementation.\n",
      "\n",
      "Created UI using JavaScript and HTML5. Designed and developed data management system using MongoDB.\n",
      "\n",
      "Used Python scripts to update the content in database and manipulate files.\n",
      "\n",
      "Proficient in Software Design and Development with a solid background in developing.\n",
      "\n",
      "Environment: Python, XML, MySQL, Apache, CSS, HTML, JavaScript, Shell Scripts, Linux and Windows.\n",
      "\n",
      "ADDITIONAL INFORMATION\n",
      "\n",
      "Languages Python, PHP, Java, C++, Shell scripting\n",
      "\n",
      "Python Framework Django, Pandas, Numpy, Scipy, Matplotlib, Seaborn, TensorFlow, Scikit-Learn, Pytorch.\n",
      "\n",
      "Databases MS SQL, MySQL, Oracle, PostgreSQL\n",
      "\n",
      "Web Technologies XML, CSS, HTML 5, JavaScript, JQuery, MVC 3, Bootstrap, AJAX, angular 2, PHP\n",
      "\n",
      "IDE Visual studio, PyCharm, Eclipse, MyEclipse\n"
     ]
    }
   ],
   "source": [
    "# Print the resume\n",
    "print(resume)"
   ]
  },
  {
   "cell_type": "code",
   "execution_count": 10,
   "metadata": {},
   "outputs": [],
   "source": [
    "# Store the job description file in a variable\n",
    "job_description = docx2txt.process('job_description1.docx')"
   ]
  },
  {
   "cell_type": "code",
   "execution_count": 11,
   "metadata": {},
   "outputs": [
    {
     "name": "stdout",
     "output_type": "stream",
     "text": [
      "Software Developer Intern, PhD, Summer 2021\n",
      "\n",
      "Google\n",
      "\n",
      "Waterloo\n",
      "\n",
      ", \n",
      "\n",
      "ON\n",
      "\n",
      ", \n",
      "\n",
      "Canada\n",
      "\n",
      "Montreal\n",
      "\n",
      ", \n",
      "\n",
      "QC\n",
      "\n",
      ", \n",
      "\n",
      "Canada\n",
      "\n",
      "Please complete your application before February 26th, 2021.\n",
      "\n",
      "Participation in the internship program requires that you are located in Canada for the duration of the internship program\n",
      "\n",
      "This internship is intended for students who are currently pursuing a PhD degree program in Computer Science or a related field with an anticipated graduation date on or after December 2021, depending on their program and unique circumstances.\n",
      "\n",
      "\n",
      "\n",
      "\n",
      "To start the application process, you will need an updated CV or resume and a current unofficial or official transcript in English. Click on the “Apply” button on this page and provide the required materials in the appropriate sections (PDFs preferred):\n",
      "\n",
      "1. In the “Resume Section:” attach an updated CV or resume.\n",
      "\n",
      "2. In the “Education Section:” attach a current or recent unofficial or official transcript in English.\n",
      "\n",
      "Under “Degree Status,” select “Now attending” to upload a transcript.\n",
      "\n",
      "\n",
      "\n",
      "Note: By applying to this position your application is automatically submitted to the following locations: Waterloo, ON, Canada; Montreal, QC, Canada\n",
      "\n",
      "Qualifications\n",
      "\n",
      "Minimum qualifications:\n",
      "\n",
      "Pursuing a PhD degree program in Computer Science, or related technical field.\n",
      "\n",
      "Programming experience in one or more of C/C++, Java or Python.\n",
      "\n",
      "Preferred qualifications:\n",
      "\n",
      "Available to work full time for a minimum of 12 weeks outside of university term time and returning to a degree program after completion of the internship.\n",
      "\n",
      "Research experience in Algorithms, Architecture, Artificial Intelligence, Compilers, Database, Data Mining, Distributed Systems, Machine Learning, Networking or Systems.\n",
      "\n",
      "Experience in computer science, with competencies in data structures, algorithms and software design.\n",
      "\n",
      "Implementation skills with Java, C/C++, C#, Objective C, Python, JavaScript, Go or similar programming language.\n",
      "\n",
      "About the job\n",
      "\n",
      "Join us for a unique 12-14 week paid internship that offers personal and professional development, an executive speaker series, and community-building. The Software Engineering Internship program will give you an opportunity to work on complex computer science solutions, develop scalable, distributed software systems, and also collaborate on multitudes of smaller projects that have universal appeal.\n",
      "\n",
      "We offer a range of internships in either Software Engineering or Site-Reliability Engineering across North America, including the US and Canada. Our recruitment team will determine where you fit best based on your resume.\n",
      "\n",
      "Software Engineering Intern:\n",
      "As a key member of a versatile team, you will work on a specific project critical to Google’s needs. We need our engineers to be versatile, and enthusiastic in addressing new problems as we continue to push technology forward. You will design, test, deploy and maintain software solutions as you grow and evolve during your internship.\n",
      "\n",
      "Site Reliability Intern:\n",
      "Our engineers create, fix, extend and scale the code to keep it working and to harden it against all the bad actors of the internet. We drive reliability and performance on a massive scale. You will work on software development projects to keep important revenue-critical systems up and running, from code-level troubleshooting of traffic anomalies to maintenance of our most cutting-edge services, from monitoring and alerts to building new automation infrastructure.\n",
      "\n",
      "Google is and always will be an engineering company. We hire people with a broad set of technical skills who are ready to address some of technology's greatest challenges and make an impact on millions, if not billions, of users. At Google, engineers not only revolutionize search, they routinely work on massive scalability and storage solutions, large-scale applications and entirely new platforms for developers around the world. From Google Ads to Chrome, Android to YouTube, Social to Local, Google engineers are changing the world one technological achievement after another.\n",
      "\n",
      "Responsibilities\n",
      "\n",
      "Create and support a productive and innovative team. This includes working with peers, managers, and teams.\n",
      "\n",
      "Develop scripts to automate routine tasks.\n",
      "\n",
      "Analyze information and evaluate results to choose the best solution to effectively solve challenges.\n",
      "\n",
      "Apply knowledge gained in computer science courses to real world challenges.\n",
      "\n",
      "Locations\n",
      "\n",
      "Google is proud to be an equal opportunity workplace and is an affirmative action employer. We are committed to equal employment opportunity regardless of race, color, ancestry, religion, sex, national origin, sexual orientation, age, citizenship, marital status, disability, gender identity or Veteran status. We also consider qualified applicants regardless of criminal histories, consistent with legal requirements. See also Google's EEO Policy and EEO is the Law. If you have a disability or special need that requires accommodation, please let us know by completing this form.\n",
      "\n",
      "To all recruitment agencies: Google does not accept agency resumes. Please do not forward resumes to our jobs alias, Google employees or any other organization location. Google is not responsible for any fees related to unsolicited resumes.\n"
     ]
    }
   ],
   "source": [
    "# Print the job description\n",
    "print(job_description)"
   ]
  },
  {
   "cell_type": "code",
   "execution_count": 12,
   "metadata": {},
   "outputs": [],
   "source": [
    "# A list of files\n",
    "text = [resume, job_description]"
   ]
  },
  {
   "cell_type": "code",
   "execution_count": 13,
   "metadata": {},
   "outputs": [],
   "source": [
    "from sklearn.feature_extraction.text import CountVectorizer\n",
    "cv = CountVectorizer()"
   ]
  },
  {
   "cell_type": "code",
   "execution_count": 14,
   "metadata": {},
   "outputs": [],
   "source": [
    "count_matrix = cv.fit_transform(text)"
   ]
  },
  {
   "cell_type": "code",
   "execution_count": 17,
   "metadata": {},
   "outputs": [
    {
     "name": "stdout",
     "output_type": "stream",
     "text": [
      "\n",
      "Similarity Scores:\n",
      "\n",
      "[[1.        0.5078837]\n",
      " [0.5078837 1.       ]]\n"
     ]
    },
    {
     "name": "stderr",
     "output_type": "stream",
     "text": [
      "D:\\python3\\lib\\importlib\\_bootstrap.py:219: RuntimeWarning: numpy.ufunc size changed, may indicate binary incompatibility. Expected 216, got 192\n",
      "  return f(*args, **kwds)\n"
     ]
    }
   ],
   "source": [
    "# This is going to print the similarity score\n",
    "from sklearn.metrics.pairwise import cosine_similarity\n",
    "print('\\nSimilarity Scores:\\n')\n",
    "print(cosine_similarity(count_matrix))"
   ]
  },
  {
   "cell_type": "code",
   "execution_count": 19,
   "metadata": {},
   "outputs": [
    {
     "name": "stdout",
     "output_type": "stream",
     "text": [
      "Your resume matches 50.79 % against the job description\n"
     ]
    }
   ],
   "source": [
    "# Get the match percentage\n",
    "\n",
    "match_percentage = cosine_similarity(count_matrix)[0][1] * 100\n",
    "print('Your resume matches', round(match_percentage,2), '% against the job description')"
   ]
  },
  {
   "cell_type": "code",
   "execution_count": null,
   "metadata": {},
   "outputs": [],
   "source": []
  },
  {
   "cell_type": "code",
   "execution_count": null,
   "metadata": {},
   "outputs": [],
   "source": []
  },
  {
   "cell_type": "code",
   "execution_count": null,
   "metadata": {},
   "outputs": [],
   "source": []
  },
  {
   "cell_type": "code",
   "execution_count": null,
   "metadata": {},
   "outputs": [],
   "source": []
  },
  {
   "cell_type": "code",
   "execution_count": null,
   "metadata": {},
   "outputs": [],
   "source": []
  },
  {
   "cell_type": "code",
   "execution_count": null,
   "metadata": {},
   "outputs": [],
   "source": []
  },
  {
   "cell_type": "code",
   "execution_count": null,
   "metadata": {},
   "outputs": [],
   "source": []
  },
  {
   "cell_type": "code",
   "execution_count": null,
   "metadata": {},
   "outputs": [],
   "source": []
  },
  {
   "cell_type": "code",
   "execution_count": null,
   "metadata": {},
   "outputs": [],
   "source": []
  },
  {
   "cell_type": "code",
   "execution_count": null,
   "metadata": {},
   "outputs": [],
   "source": []
  },
  {
   "cell_type": "code",
   "execution_count": null,
   "metadata": {},
   "outputs": [],
   "source": []
  },
  {
   "cell_type": "code",
   "execution_count": null,
   "metadata": {},
   "outputs": [],
   "source": []
  },
  {
   "cell_type": "code",
   "execution_count": null,
   "metadata": {},
   "outputs": [],
   "source": []
  },
  {
   "cell_type": "code",
   "execution_count": null,
   "metadata": {},
   "outputs": [],
   "source": []
  },
  {
   "cell_type": "code",
   "execution_count": null,
   "metadata": {},
   "outputs": [],
   "source": []
  },
  {
   "cell_type": "code",
   "execution_count": null,
   "metadata": {},
   "outputs": [],
   "source": []
  },
  {
   "cell_type": "code",
   "execution_count": null,
   "metadata": {},
   "outputs": [],
   "source": []
  },
  {
   "cell_type": "code",
   "execution_count": null,
   "metadata": {},
   "outputs": [],
   "source": []
  },
  {
   "cell_type": "code",
   "execution_count": null,
   "metadata": {},
   "outputs": [],
   "source": []
  }
 ],
 "metadata": {
  "kernelspec": {
   "display_name": "Python 3",
   "language": "python",
   "name": "python3"
  },
  "language_info": {
   "codemirror_mode": {
    "name": "ipython",
    "version": 3
   },
   "file_extension": ".py",
   "mimetype": "text/x-python",
   "name": "python",
   "nbconvert_exporter": "python",
   "pygments_lexer": "ipython3",
   "version": "3.6.5"
  }
 },
 "nbformat": 4,
 "nbformat_minor": 2
}
